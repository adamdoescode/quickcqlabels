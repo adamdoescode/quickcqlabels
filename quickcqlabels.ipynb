{
 "cells": [
  {
   "cell_type": "code",
   "execution_count": 2,
   "metadata": {},
   "outputs": [],
   "source": [
    "#this script will take a set of Cq values and a properly formatted PCR plan for a 384 well plate and output Cq values next to their appropiate well label\n",
    "#this is the development script. The final version should be run from the command line and is located elsewhere.\n",
    "\n",
    "#imports we need\n",
    "import pandas as pd\n",
    "\n",
    "def main_code():\n",
    "    #reads in raw Cq values and takes only the Cq column\n",
    "    cq = pd.read_excel('samplecq.xlsx')\n",
    "    cq = cq.set_index(['Well'])\n",
    "    cq = cq['Cq']\n",
    "\n",
    "    #reads in formatted qPCR plan\n",
    "    plan = pd.read_excel('sampleplan.xlsx')\n",
    "\n",
    "    #formats the plan dataframe so each label includes the target gene\n",
    "    for i in range(0,15):\n",
    "        gene = plan.iloc[i,24]\n",
    "        name = plan.iloc[i]\n",
    "        plan.iloc[i] = gene + ': ' + name\n",
    "    #discard the gene col as this just gets in the way now\n",
    "    plan = plan.drop(['Gene'], axis=1)\n",
    "\n",
    "    #this loop will combine the plan and cq dataframes by appending to a list named 'res' and then converting that into a dataframe named 'combined'\n",
    "    res = []\n",
    "    col_counter = 0\n",
    "    for j in range(0,16):\n",
    "        letter = plan.index[j]\n",
    "        for i in range(0,24):\n",
    "            res.append([plan.at[letter,i+1], cq.iloc[i+col_counter]])\n",
    "        col_counter = col_counter+24\n",
    "    combined = pd.DataFrame(res)\n",
    "    combined = combined.rename(index=str, columns={0:'gene',1:'Cq'})\n",
    "    combined = combined.set_index(cq.index)\n",
    "    #save the results!\n",
    "    combined.to_csv('combined.csv')\n",
    "\n",
    "def check_output():\n",
    "    #quick and dirty check to make sure cq values in the original cq results match the same spot in the final 'combined' dataframe\n",
    "    #NaN Cq values will always return a False.\n",
    "    for i in range(0,384):\n",
    "        print(i, cq.iloc[i] == combined.iloc[i,1])\n",
    "\n",
    "main_code()"
   ]
  },
  {
   "cell_type": "code",
   "execution_count": null,
   "metadata": {},
   "outputs": [],
   "source": []
  }
 ],
 "metadata": {
  "kernelspec": {
   "display_name": "Python 3",
   "language": "python",
   "name": "python3"
  },
  "language_info": {
   "codemirror_mode": {
    "name": "ipython",
    "version": 3
   },
   "file_extension": ".py",
   "mimetype": "text/x-python",
   "name": "python",
   "nbconvert_exporter": "python",
   "pygments_lexer": "ipython3",
   "version": "3.6.5"
  }
 },
 "nbformat": 4,
 "nbformat_minor": 2
}
